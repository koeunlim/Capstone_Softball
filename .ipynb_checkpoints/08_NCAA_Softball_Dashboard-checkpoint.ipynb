{
 "cells": [
  {
   "cell_type": "markdown",
   "id": "forty-block",
   "metadata": {},
   "source": [
    "## [NYCDSA Capstone Project] \n",
    "# Women's Softball League Power Ranking Estimate\n",
    "\n",
    "<br>\n",
    "Koeun Lim (koeunlim@alum.mit.edu)<br>\n",
    "Kevin Haghi (kevin.haghi@gmail.com)<br>\n",
    "\n",
    "\n",
    "# Step 8. Visualization & Dashboard\n",
    "\n",
    "---\n",
    "## Project Description\n",
    "\n",
    "\n",
    "\n",
    "### Project Outline\n",
    "- Step 1. Web scraping\n",
    "- Step 2. Clean data\n",
    "- Step 3. EDA\n",
    "- Step 4. Imputation & PCA\n",
    "- Step 5. Modeling (1) RPI prediction based on stats - Linear regression\n",
    "- Step 6. Modeling (2) WS 64 Seed prediction based on stats - Logistic regression\n",
    "- Step 7. Modeling (3) WS Ranking prediction based on stats - Multi-class Logistic regression\n",
    "- Step 8. Visualization & Dashboard"
   ]
  },
  {
   "cell_type": "code",
   "execution_count": 1,
   "id": "productive-allowance",
   "metadata": {},
   "outputs": [],
   "source": [
    "import pandas as pd\n",
    "import numpy as np\n",
    "\n",
    "from jupyter_dash import JupyterDash\n",
    "import dash_bootstrap_components as dbc\n",
    "\n",
    "import dash\n",
    "import dash_core_components as dcc\n",
    "import dash_html_components as html\n",
    "from dash.dependencies import Input, Output\n",
    "\n",
    "import plotly.express as px\n",
    "\n",
    "import plotly.io as pio\n"
   ]
  },
  {
   "cell_type": "code",
   "execution_count": 2,
   "id": "loaded-fishing",
   "metadata": {},
   "outputs": [],
   "source": [
    "# When running in JupyterHub or Binder, call the infer_jupyter_config function to detect the proxy configuration.\n",
    "#JupyterDash.infer_jupyter_proxy_config()"
   ]
  },
  {
   "cell_type": "markdown",
   "id": "wired-exclusion",
   "metadata": {},
   "source": [
    "### Load data"
   ]
  },
  {
   "cell_type": "code",
   "execution_count": 3,
   "id": "former-prefix",
   "metadata": {},
   "outputs": [],
   "source": [
    "# Load current stats\n",
    "df_all = pd.read_csv('Data/Clean_final.csv')\n",
    "df_2019 = df_all[df_all.Year == 2019]\n",
    "indicator_college = np.sort(df_2019.College.unique())\n",
    "\n",
    "# Load RPI prediction\n",
    "df_RPI = pd.read_csv('RPI/RPI_prediction_logit_1000.csv')\n",
    "\n",
    "# Load WS 64 Seeds prediction\n",
    "df_WS64 = pd.read_csv('WS64Seeds/WS64_prediction_SGDlogistic_1000_famd_ext2.csv')\n",
    "\n",
    "# Load WS Ranking prediction\n",
    "df_WSProb = pd.read_csv('WSRank/WSProb_prediction_logistic_1000_famd.csv')\n",
    "df_WSRank = pd.read_csv('WSRank/WSRank_prediction_logistic_1000_famd.csv')"
   ]
  },
  {
   "cell_type": "markdown",
   "id": "annual-plain",
   "metadata": {},
   "source": [
    "### Construct the App"
   ]
  },
  {
   "cell_type": "code",
   "execution_count": 4,
   "id": "fourth-fortune",
   "metadata": {},
   "outputs": [
    {
     "ename": "TypeError",
     "evalue": "__init__() takes 3 positional arguments but 4 were given",
     "output_type": "error",
     "traceback": [
      "\u001b[0;31m---------------------------------------------------------------------------\u001b[0m",
      "\u001b[0;31mTypeError\u001b[0m                                 Traceback (most recent call last)",
      "\u001b[0;32m<ipython-input-4-29f910b7f2dd>\u001b[0m in \u001b[0;36m<module>\u001b[0;34m\u001b[0m\n\u001b[1;32m     66\u001b[0m \u001b[0;34m\u001b[0m\u001b[0m\n\u001b[1;32m     67\u001b[0m @app.callback(\n\u001b[0;32m---> 68\u001b[0;31m     \u001b[0mOutput\u001b[0m\u001b[0;34m(\u001b[0m\u001b[0;34m\"page-content\"\u001b[0m\u001b[0;34m,\u001b[0m \u001b[0;34m\"children\"\u001b[0m\u001b[0;34m,\u001b[0m\u001b[0;34m'dd-output-container'\u001b[0m\u001b[0;34m)\u001b[0m\u001b[0;34m,\u001b[0m\u001b[0;34m\u001b[0m\u001b[0;34m\u001b[0m\u001b[0m\n\u001b[0m\u001b[1;32m     69\u001b[0m     \u001b[0;34m[\u001b[0m\u001b[0mInput\u001b[0m\u001b[0;34m(\u001b[0m\u001b[0;34m'college-dropdown'\u001b[0m\u001b[0;34m,\u001b[0m \u001b[0;34m'value'\u001b[0m\u001b[0;34m)\u001b[0m\u001b[0;34m]\u001b[0m\u001b[0;34m\u001b[0m\u001b[0;34m\u001b[0m\u001b[0m\n\u001b[1;32m     70\u001b[0m )\n",
      "\u001b[0;31mTypeError\u001b[0m: __init__() takes 3 positional arguments but 4 were given"
     ]
    }
   ],
   "source": [
    "#external_stylesheets = ['https://codepen.io/chriddyp/pen/bWLwgP.css']\n",
    "#app = JupyterDash(__name__, external_stylesheets=external_stylesheets)\n",
    "\n",
    "app = JupyterDash(__name__, external_stylesheets=[dbc.themes.MINTY])\n",
    "\n",
    "#server = app.server\n",
    "\n",
    "\n",
    "# the style arguments for the sidebar. We use position:fixed and a fixed width\n",
    "SIDEBAR_STYLE = {\n",
    "    \"position\": \"fixed\",\n",
    "    \"top\": 0,\n",
    "    \"left\": 0,\n",
    "    \"bottom\": 0,\n",
    "    \"width\": \"16rem\",\n",
    "    \"padding\": \"2rem 1rem\",\n",
    "    \"background-color\": \"#f8f9fa\",\n",
    "}\n",
    "\n",
    "# the styles for the main content position it to the right of the sidebar and\n",
    "# add some padding.\n",
    "CONTENT_STYLE = {\n",
    "    \"margin-left\": \"18rem\",\n",
    "    \"margin-right\": \"2rem\",\n",
    "    \"padding\": \"2rem 1rem\",\n",
    "}\n",
    "\n",
    "\n",
    "sidebar = html.Div(\n",
    "    [\n",
    "        html.H2(\"Women's College Softball Team Projections\", className=\"display-4\"),\n",
    "        html.Hr(),\n",
    "        html.P(\n",
    "            \" \", className=\"lead\"\n",
    "        ),\n",
    "        dcc.Dropdown(\n",
    "            id='college-dropdown',\n",
    "            options=[{'label': i, 'value': i} for i in indicator_college],\n",
    "            placeholder = 'Select a team'\n",
    "        ),\n",
    "        html.Div(id='dd-output-container'),\n",
    "    ],\n",
    "    style=SIDEBAR_STYLE,\n",
    ")\n",
    "\n",
    "content = html.Div(id=\"page-content\", style=CONTENT_STYLE)\n",
    "\n",
    "app.layout = html.Div([sidebar, content])\n",
    "\n",
    "\n",
    "\n",
    "'''\n",
    "app.layout = html.Div([\n",
    "    dcc.Dropdown(\n",
    "        id='college-dropdown',\n",
    "        options=[{'label': i, 'value': i} for i in indicator_college],\n",
    "        placeholder = 'Select a team'\n",
    "    ),\n",
    "    html.Div(id='dd-output-container'),\n",
    "], style={'width': '49%', 'display': 'inline-block'})\n",
    "\n",
    "@app.callback(\n",
    "    dash.dependencies.Output('dd-output-container', 'children'),\n",
    "    [dash.dependencies.Input('college-dropdown', 'value')])\n",
    "'''\n",
    "\n",
    "@app.callback(\n",
    "    Output(\"page-content\", \"children\", 'dd-output-container'), \n",
    "    [Input('college-dropdown', 'value')]\n",
    ")\n",
    "\n",
    "\n",
    "def update_output(value):\n",
    "    return 'You have selected \"{}\"'.format(value)\n",
    "\n",
    "\n",
    "if __name__ == '__main__':\n",
    "    app.run_server(debug=True)\n",
    "\n"
   ]
  },
  {
   "cell_type": "code",
   "execution_count": null,
   "id": "junior-latin",
   "metadata": {},
   "outputs": [],
   "source": [
    "fig = px.bar(df, x=\"Fruit\", y=\"Amount\", color=\"City\", barmode=\"group\")\n",
    "\n",
    "app.layout = html.Div(children=[\n",
    "    html.H1(children='Hello Dash'),\n",
    "\n",
    "    html.Div(children='''\n",
    "        Dash: A web application framework for Python.\n",
    "    '''),\n",
    "\n",
    "    dcc.Graph(\n",
    "        id='example-graph',\n",
    "        figure=fig\n",
    "    )\n",
    "])\n",
    "\n",
    "if __name__ == '__main__':\n",
    "    app.run_server(debug=True)"
   ]
  },
  {
   "cell_type": "code",
   "execution_count": null,
   "id": "governmental-antenna",
   "metadata": {},
   "outputs": [],
   "source": [
    "suggestions = [\"valid\", \"options\", \"as\", \"suggestions\"]; # generated by, i.e. query to db\n",
    "\n",
    "html.Datalist(\n",
    "    id='list-suggested-inputs', \n",
    "    children=[html.Option(value=word) for word in suggestions])\n",
    "\n",
    "dcc.Input(id='input-1',\n",
    "    type='text',\n",
    "    list='list-suggested-inputs',\n",
    "    value=''\n",
    "),"
   ]
  }
 ],
 "metadata": {
  "kernelspec": {
   "display_name": "Python 3",
   "language": "python",
   "name": "python3"
  },
  "language_info": {
   "codemirror_mode": {
    "name": "ipython",
    "version": 3
   },
   "file_extension": ".py",
   "mimetype": "text/x-python",
   "name": "python",
   "nbconvert_exporter": "python",
   "pygments_lexer": "ipython3",
   "version": "3.7.4"
  }
 },
 "nbformat": 4,
 "nbformat_minor": 5
}
