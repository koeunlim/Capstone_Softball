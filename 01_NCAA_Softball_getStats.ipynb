{
 "cells": [
  {
   "cell_type": "markdown",
   "id": "refined-clause",
   "metadata": {},
   "source": [
    "## [NYCDSA Capstone Project] \n",
    "# Women's Softball League Power Ranking Estimate\n",
    "\n",
    "<br>\n",
    "Koeun Lim (ke.lim.kang@gmail.com)<br>\n",
    "Kevin Haghi (kevin.haghi@gmail.com)<br>\n",
    "\n",
    "\n",
    "# Step 1. Web scraping\n",
    "\n",
    "---\n",
    "## Project Description\n",
    "\n",
    "\n",
    "\n",
    "### Project Outline\n",
    "- Step 1. Web scraping\n",
    "- Step 2. EDA\n",
    "- Step 3. Modeling\n",
    "- Step 4. "
   ]
  },
  {
   "cell_type": "code",
   "execution_count": 2,
   "id": "built-vampire",
   "metadata": {},
   "outputs": [],
   "source": [
    "import pandas as pd\n",
    "import re\n",
    "import time\n",
    "\n",
    "from bs4 import BeautifulSoup\n",
    "from selenium import webdriver\n",
    "from selenium.webdriver.common.keys import Keys\n",
    "from selenium.webdriver.support.ui import Select"
   ]
  },
  {
   "cell_type": "code",
   "execution_count": 3,
   "id": "associate-singer",
   "metadata": {},
   "outputs": [],
   "source": [
    "driver = webdriver.Chrome(\"/usr/local/bin/chromedriver\")\n",
    "\n",
    "# load the first page\n",
    "url = 'http://stats.ncaa.org/rankings/'\n",
    "driver.get(url)\n",
    "time.sleep(1)\n",
    "\n",
    "select_sport = Select(driver.find_element_by_id('sport'))\n",
    "select_sport.select_by_visible_text('Softball')\n"
   ]
  },
  {
   "cell_type": "code",
   "execution_count": 4,
   "id": "intensive-opinion",
   "metadata": {},
   "outputs": [],
   "source": [
    "select_season = Select(driver.find_element_by_id('acadyr'))\n",
    "Seasons = ['2018-19','2017-18','2016-17','2015-16','2014-15','2013-14','2012-13']\n",
    "\n",
    "# Add loop here later\n",
    "select_season.select_by_visible_text(Seasons[0])"
   ]
  },
  {
   "cell_type": "code",
   "execution_count": 5,
   "id": "regulated-stephen",
   "metadata": {},
   "outputs": [],
   "source": [
    "select_div = Select(driver.find_element_by_id('u_div'))\n",
    "select_div.select_by_visible_text('I')"
   ]
  },
  {
   "cell_type": "code",
   "execution_count": 6,
   "id": "specialized-resource",
   "metadata": {},
   "outputs": [],
   "source": [
    "select_period = Select(driver.find_element_by_id('rp'))\n",
    "\n",
    "period_box = driver.find_element_by_name('rp')\n",
    "period_options = [x for x in period_box.find_elements_by_tag_name('option')]\n",
    "for period_option in period_options:\n",
    "    period_text = period_option.text\n",
    "    if 'Final Statistics' in period_text:\n",
    "        select_period.select_by_visible_text(period_text)"
   ]
  },
  {
   "cell_type": "code",
   "execution_count": 13,
   "id": "labeled-softball",
   "metadata": {},
   "outputs": [],
   "source": [
    "select_team = driver.find_element_by_id('stat_type_T_N')\n",
    "select_team.click()"
   ]
  },
  {
   "cell_type": "code",
   "execution_count": 14,
   "id": "governmental-communication",
   "metadata": {},
   "outputs": [],
   "source": [
    "stats_box = driver.find_element_by_name('Stats')\n",
    "stats_options = [x for x in stats_box.find_elements_by_tag_name('option')]\n",
    "Stats_names = []\n",
    "for idx_stats, stats_option in enumerate(stats_options):\n",
    "    Stats_names.append(stats_option.text)\n",
    "\n",
    "del Stats_names[0]\n",
    "\n",
    "select_stats = Select(driver.find_element_by_id('Stats'))\n",
    "select_stats.select_by_visible_text(Stats_names[0])"
   ]
  },
  {
   "cell_type": "code",
   "execution_count": 15,
   "id": "ignored-doctor",
   "metadata": {},
   "outputs": [],
   "source": [
    "select_stats = Select(driver.find_element_by_id('stat_seq'))\n",
    "\n",
    "# add loop here later\n",
    "select_stats.select_by_visible_text(Stats_names[0])"
   ]
  },
  {
   "cell_type": "code",
   "execution_count": 16,
   "id": "plain-rates",
   "metadata": {},
   "outputs": [],
   "source": [
    "select_len = Select(driver.find_element_by_name('rankings_table_length'))\n",
    "select_len.select_by_value('-1')\n",
    "\n",
    "len_str = driver.find_element_by_id('rankings_table_info').text\n",
    "num_obs = max([int(s) for s in len_str.split() if s.isdigit()])"
   ]
  },
  {
   "cell_type": "code",
   "execution_count": 17,
   "id": "magnetic-wagner",
   "metadata": {},
   "outputs": [],
   "source": [
    "# Scrape\n",
    "soup_level1=BeautifulSoup(driver.page_source, 'lxml')"
   ]
  },
  {
   "cell_type": "code",
   "execution_count": 18,
   "id": "descending-publicity",
   "metadata": {},
   "outputs": [
    {
     "data": {
      "text/plain": [
       "['Rank', 'Team', 'G', 'AB', 'H', 'BA']"
      ]
     },
     "execution_count": 18,
     "metadata": {},
     "output_type": "execute_result"
    }
   ],
   "source": [
    "table1 = soup_level1.find(\"table\", attrs={\"id\": \"rankings_table\"})\n",
    "table_data1 = table1.tbody.find_all(\"tr\") \n",
    "table_header = []\n",
    "for th in table1.find_all(\"th\"):\n",
    "    table_header.append(th.text.replace('\\n', ' ').strip())\n",
    "table_header"
   ]
  },
  {
   "cell_type": "code",
   "execution_count": 19,
   "id": "cleared-wonder",
   "metadata": {},
   "outputs": [
    {
     "name": "stderr",
     "output_type": "stream",
     "text": [
      "/Users/koeunlim/opt/anaconda3/lib/python3.7/site-packages/ipykernel_launcher.py:7: FutureWarning: The default value of regex will change from True to False in a future version.\n",
      "  import sys\n"
     ]
    },
    {
     "data": {
      "text/html": [
       "<div>\n",
       "<style scoped>\n",
       "    .dataframe tbody tr th:only-of-type {\n",
       "        vertical-align: middle;\n",
       "    }\n",
       "\n",
       "    .dataframe tbody tr th {\n",
       "        vertical-align: top;\n",
       "    }\n",
       "\n",
       "    .dataframe thead th {\n",
       "        text-align: right;\n",
       "    }\n",
       "</style>\n",
       "<table border=\"1\" class=\"dataframe\">\n",
       "  <thead>\n",
       "    <tr style=\"text-align: right;\">\n",
       "      <th></th>\n",
       "      <th>Rank</th>\n",
       "      <th>College</th>\n",
       "      <th>G</th>\n",
       "      <th>AB</th>\n",
       "      <th>H</th>\n",
       "      <th>BA</th>\n",
       "    </tr>\n",
       "  </thead>\n",
       "  <tbody>\n",
       "    <tr>\n",
       "      <th>0</th>\n",
       "      <td>1</td>\n",
       "      <td>Oklahoma</td>\n",
       "      <td>63</td>\n",
       "      <td>1,640</td>\n",
       "      <td>564</td>\n",
       "      <td>0.344</td>\n",
       "    </tr>\n",
       "    <tr>\n",
       "      <th>1</th>\n",
       "      <td>2</td>\n",
       "      <td>George Washington</td>\n",
       "      <td>62</td>\n",
       "      <td>1,706</td>\n",
       "      <td>582</td>\n",
       "      <td>0.341</td>\n",
       "    </tr>\n",
       "    <tr>\n",
       "      <th>2</th>\n",
       "      <td>3</td>\n",
       "      <td>UCLA</td>\n",
       "      <td>62</td>\n",
       "      <td>1,685</td>\n",
       "      <td>572</td>\n",
       "      <td>0.339</td>\n",
       "    </tr>\n",
       "    <tr>\n",
       "      <th>3</th>\n",
       "      <td>4</td>\n",
       "      <td>Virginia Tech</td>\n",
       "      <td>58</td>\n",
       "      <td>1,543</td>\n",
       "      <td>515</td>\n",
       "      <td>0.334</td>\n",
       "    </tr>\n",
       "    <tr>\n",
       "      <th>4</th>\n",
       "      <td>5</td>\n",
       "      <td>James Madison</td>\n",
       "      <td>61</td>\n",
       "      <td>1,621</td>\n",
       "      <td>539</td>\n",
       "      <td>0.333</td>\n",
       "    </tr>\n",
       "    <tr>\n",
       "      <th>...</th>\n",
       "      <td>...</td>\n",
       "      <td>...</td>\n",
       "      <td>...</td>\n",
       "      <td>...</td>\n",
       "      <td>...</td>\n",
       "      <td>...</td>\n",
       "    </tr>\n",
       "    <tr>\n",
       "      <th>290</th>\n",
       "      <td>291</td>\n",
       "      <td>Jackson St.</td>\n",
       "      <td>47</td>\n",
       "      <td>1,112</td>\n",
       "      <td>229</td>\n",
       "      <td>0.206</td>\n",
       "    </tr>\n",
       "    <tr>\n",
       "      <th>291</th>\n",
       "      <td>292</td>\n",
       "      <td>South Carolina St.</td>\n",
       "      <td>36</td>\n",
       "      <td>748</td>\n",
       "      <td>152</td>\n",
       "      <td>0.203</td>\n",
       "    </tr>\n",
       "    <tr>\n",
       "      <th>292</th>\n",
       "      <td>293</td>\n",
       "      <td>Saint Peter's</td>\n",
       "      <td>56</td>\n",
       "      <td>1,346</td>\n",
       "      <td>265</td>\n",
       "      <td>0.197</td>\n",
       "    </tr>\n",
       "    <tr>\n",
       "      <th>293</th>\n",
       "      <td>294</td>\n",
       "      <td>Morehead St.</td>\n",
       "      <td>45</td>\n",
       "      <td>1,001</td>\n",
       "      <td>197</td>\n",
       "      <td>0.197</td>\n",
       "    </tr>\n",
       "    <tr>\n",
       "      <th>294</th>\n",
       "      <td>295</td>\n",
       "      <td>Ark.-Pine Bluff</td>\n",
       "      <td>38</td>\n",
       "      <td>866</td>\n",
       "      <td>167</td>\n",
       "      <td>0.193</td>\n",
       "    </tr>\n",
       "  </tbody>\n",
       "</table>\n",
       "<p>295 rows × 6 columns</p>\n",
       "</div>"
      ],
      "text/plain": [
       "    Rank              College   G     AB    H     BA\n",
       "0      1            Oklahoma   63  1,640  564  0.344\n",
       "1      2   George Washington   62  1,706  582  0.341\n",
       "2      3                UCLA   62  1,685  572  0.339\n",
       "3      4       Virginia Tech   58  1,543  515  0.334\n",
       "4      5       James Madison   61  1,621  539  0.333\n",
       "..   ...                  ...  ..    ...  ...    ...\n",
       "290  291         Jackson St.   47  1,112  229  0.206\n",
       "291  292  South Carolina St.   36    748  152  0.203\n",
       "292  293       Saint Peter's   56  1,346  265  0.197\n",
       "293  294        Morehead St.   45  1,001  197  0.197\n",
       "294  295     Ark.-Pine Bluff   38    866  167  0.193\n",
       "\n",
       "[295 rows x 6 columns]"
      ]
     },
     "execution_count": 19,
     "metadata": {},
     "output_type": "execute_result"
    }
   ],
   "source": [
    "table_data = pd.DataFrame(columns = table_header)\n",
    "t_data = {}\n",
    "for tr in table1.tbody.find_all(\"tr\"): \n",
    "    for idx_td,td in enumerate(tr.find_all(\"td\")): \n",
    "        t_data[table_header[idx_td]] = td.text.replace('\\n', '').strip()\n",
    "    table_data = table_data.append(t_data,ignore_index=True)\n",
    "table_data['Team'] = table_data['Team'].str.replace(r'\\(.*\\)','')    \n",
    "table_data = table_data.rename(columns={'Team':'College'})\n",
    "table_data"
   ]
  },
  {
   "cell_type": "code",
   "execution_count": 20,
   "id": "incomplete-swing",
   "metadata": {},
   "outputs": [],
   "source": [
    "fname = 'Data/NCAAstats/' + Seasons[0][0:2] + Seasons[0][5:7] + '.csv'\n",
    "table_data.to_csv(fname,index=False)"
   ]
  },
  {
   "cell_type": "code",
   "execution_count": null,
   "id": "reported-spring",
   "metadata": {},
   "outputs": [],
   "source": [
    "driver.close()"
   ]
  }
 ],
 "metadata": {
  "kernelspec": {
   "display_name": "Python 3",
   "language": "python",
   "name": "python3"
  },
  "language_info": {
   "codemirror_mode": {
    "name": "ipython",
    "version": 3
   },
   "file_extension": ".py",
   "mimetype": "text/x-python",
   "name": "python",
   "nbconvert_exporter": "python",
   "pygments_lexer": "ipython3",
   "version": "3.7.4"
  }
 },
 "nbformat": 4,
 "nbformat_minor": 5
}
