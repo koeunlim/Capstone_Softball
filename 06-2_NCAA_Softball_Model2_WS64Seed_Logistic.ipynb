{
 "cells": [
  {
   "cell_type": "markdown",
   "id": "variable-hawaiian",
   "metadata": {},
   "source": [
    "## [NYCDSA Capstone Project] \n",
    "# Women's Softball League Power Ranking Estimate\n",
    "\n",
    "<br>\n",
    "Koeun Lim (koeunlim@alum.mit.edu)<br>\n",
    "Kevin Haghi (kevin.haghi@gmail.com)<br>\n",
    "\n",
    "\n",
    "# Step 6-2. Modeling 2 - WS 64 Seed - Logistic Regression\n",
    "\n",
    "---\n",
    "## Project Description\n",
    "\n",
    "\n",
    "\n",
    "### Project Outline\n",
    "- Step 1. Web scraping\n",
    "- Step 2. Clean data\n",
    "- Step 3. EDA\n",
    "- Step 4. Imputation & PCA\n",
    "- Step 5-1. Modeling (1) RPI prediction based on stats - XGboost regression\n",
    "- Step 5-2. Modeling (1) RPI prediction based on stats - Linear regression\n",
    "- Step 6-1. Modeling (2) WS 64 Seed prediction based on stats - XGboost classification\n",
    "- Step 6-2. Modeling (2) WS 64 Seed prediction based on stats - Logistic regression"
   ]
  },
  {
   "cell_type": "code",
   "execution_count": 28,
   "id": "agreed-journal",
   "metadata": {},
   "outputs": [],
   "source": [
    "import pandas as pd\n",
    "import numpy as np\n",
    "import seaborn as sn\n",
    "from datetime import datetime\n",
    "from scipy import stats\n",
    "from matplotlib import pyplot as plt\n",
    "\n",
    "import sklearn.model_selection as ms\n",
    "from sklearn.model_selection import train_test_split\n",
    "from sklearn.model_selection import RandomizedSearchCV\n",
    "from sklearn.linear_model import LogisticRegression\n",
    "from sklearn.linear_model import SGDClassifier\n",
    "from sklearn.metrics import confusion_matrix\n",
    "from sklearn.metrics import classification_report\n",
    "from sklearn.utils import resample\n",
    "\n",
    "import warnings\n",
    "warnings.filterwarnings('ignore')\n",
    "\n",
    "%matplotlib inline\n",
    "plt.rcParams['figure.figsize'] = (10, 5)\n",
    "pd.set_option('display.max_columns', 250)\n",
    "pd.set_option('display.max_rows', 250)"
   ]
  },
  {
   "cell_type": "code",
   "execution_count": 3,
   "id": "quiet-announcement",
   "metadata": {},
   "outputs": [],
   "source": [
    "y_WSin = pd.read_csv('Data/y_WSin.csv')\n",
    "y_WSin_2019 = pd.read_csv('Data/y_WSin_2019.csv')\n",
    "\n",
    "X_famd = pd.read_csv('Data/X_famd.csv')\n",
    "X_famd_2019 = pd.read_csv('Data/X_famd_2019.csv')\n",
    "X_College = pd.read_csv('Data/X_College.csv')\n",
    "X_College_2019 = pd.read_csv('Data/X_College_2019.csv')"
   ]
  },
  {
   "cell_type": "markdown",
   "id": "express-courage",
   "metadata": {},
   "source": [
    "### Logistic regression"
   ]
  },
  {
   "cell_type": "code",
   "execution_count": 15,
   "id": "rolled-refrigerator",
   "metadata": {},
   "outputs": [
    {
     "name": "stdout",
     "output_type": "stream",
     "text": [
      "WCWS_in\n",
      "0          1387\n",
      "1           384\n",
      "dtype: int64\n",
      "Proportion 0:  0.7831733483907397\n"
     ]
    },
    {
     "data": {
      "image/png": "[encoded data removed]",
      "text/plain": [
       "<Figure size 720x360 with 1 Axes>"
      ]
     },
     "metadata": {
      "needs_background": "light"
     },
     "output_type": "display_data"
    }
   ],
   "source": [
    "plt.scatter(X_famd['0'],y_WSin)\n",
    "plt.show\n",
    "\n",
    "print(y_WSin.value_counts())\n",
    "print('Proportion 0: ', y_WSin.value_counts()[0]/len(y_WSin))"
   ]
  },
  {
   "cell_type": "code",
   "execution_count": 29,
   "id": "republican-horizontal",
   "metadata": {},
   "outputs": [
    {
     "name": "stdout",
     "output_type": "stream",
     "text": [
      "Train set score: 0.8966685488424618\n",
      "[[1340   47]\n",
      " [ 136  248]]\n",
      "\n",
      "\n",
      "Test set score: 0.8855218855218855\n",
      "[[219  14]\n",
      " [ 20  44]]\n"
     ]
    }
   ],
   "source": [
    "logistic = LogisticRegression(C=1e4, solver='lbfgs', multi_class='auto')\n",
    "logistic.fit(X_famd, y_WSin)\n",
    "print('Train set score:', logistic.score(X_famd, y_WSin))\n",
    "print(confusion_matrix(y_WSin,logistic.predict(X_famd)))\n",
    "\n",
    "print('\\n\\nTest set score:', logistic.score(X_famd_2019, y_WSin_2019))\n",
    "print(confusion_matrix(y_WSin_2019,logistic.predict(X_famd_2019)))"
   ]
  },
  {
   "cell_type": "code",
   "execution_count": 50,
   "id": "trying-joyce",
   "metadata": {},
   "outputs": [
    {
     "data": {
      "image/png": "[encoded data removed]",
      "text/plain": [
       "<Figure size 720x360 with 1 Axes>"
      ]
     },
     "metadata": {
      "needs_background": "light"
     },
     "output_type": "display_data"
    }
   ],
   "source": [
    "prob_in = logistic.predict_proba(X_famd_2019)[:,1]\n",
    "\n",
    "idx_ex = 0\n",
    "college = X_College_2019.College.loc[idx_ex]\n",
    "prob_college = prob_in[idx_ex]\n",
    "\n",
    "plt.scatter(X_famd_2019['0'],prob_in,color='k')\n",
    "plt.scatter(X_famd_2019['0'][idx_ex],prob_in[idx_ex],color='r')\n",
    "plt.title(college + ' RPI Ranking')\n",
    "plt.ylabel('Probability Making 64 Seeds')\n",
    "plt.xlabel('Factor 0')\n",
    "plt.show()\n",
    "\n",
    "# bootstrap the probability"
   ]
  },
  {
   "cell_type": "markdown",
   "id": "extensive-elizabeth",
   "metadata": {},
   "source": [
    "### SGD Classifier"
   ]
  },
  {
   "cell_type": "code",
   "execution_count": 31,
   "id": "aerial-camping",
   "metadata": {},
   "outputs": [
    {
     "data": {
      "text/plain": [
       "4.304510101660094"
      ]
     },
     "execution_count": 31,
     "metadata": {},
     "output_type": "execute_result"
    }
   ],
   "source": [
    "sgd = SGDClassifier(loss='log', max_iter=1e4, l1_ratio=0, alpha=1e-4, shuffle=False)"
   ]
  },
  {
   "cell_type": "code",
   "execution_count": 45,
   "id": "center-alpha",
   "metadata": {},
   "outputs": [
    {
     "data": {
      "text/plain": [
       "282   -2.798857\n",
       "296   -3.662594\n",
       "249   -2.161190\n",
       "292   -2.957152\n",
       "293   -2.390990\n",
       "         ...   \n",
       "5      1.672805\n",
       "2      2.269181\n",
       "3      2.514123\n",
       "0      4.304510\n",
       "1      3.090974\n",
       "Name: 0, Length: 297, dtype: float64"
      ]
     },
     "execution_count": 45,
     "metadata": {},
     "output_type": "execute_result"
    }
   ],
   "source": []
  },
  {
   "cell_type": "code",
   "execution_count": 46,
   "id": "fifty-handbook",
   "metadata": {},
   "outputs": [
    {
     "data": {
      "text/plain": [
       "array([2.22096919e-07, 2.29657645e-07, 3.67114872e-05, 4.57618447e-05,\n",
       "       7.08965382e-05, 7.19959475e-05, 1.03054447e-04, 1.43337842e-04,\n",
       "       2.23516980e-04, 2.42902894e-04, 3.39126364e-04, 3.50593213e-04,\n",
       "       3.65110545e-04, 4.32389667e-04, 4.53243223e-04, 5.77129203e-04,\n",
       "       6.08969859e-04, 7.73517996e-04, 7.89158006e-04, 8.38595815e-04,\n",
       "       9.08505293e-04, 9.26710463e-04, 9.29268734e-04, 1.01972617e-03,\n",
       "       1.16974522e-03, 1.39848484e-03, 1.45952061e-03, 1.48228234e-03,\n",
       "       1.64819863e-03, 1.67017578e-03, 1.67333213e-03, 1.70024653e-03,\n",
       "       1.80521214e-03, 1.88086053e-03, 1.94262426e-03, 2.05517758e-03,\n",
       "       2.11744559e-03, 2.16557082e-03, 2.30687302e-03, 2.49715397e-03,\n",
       "       2.78248516e-03, 2.81518967e-03, 2.84472342e-03, 3.01948401e-03,\n",
       "       3.08228702e-03, 3.37467777e-03, 3.56509114e-03, 3.57079438e-03,\n",
       "       3.93053669e-03, 4.17189032e-03, 4.18728472e-03, 4.32108678e-03,\n",
       "       4.46757164e-03, 4.54453464e-03, 4.66862983e-03, 4.85255010e-03,\n",
       "       5.09811866e-03, 5.09815865e-03, 5.23293611e-03, 5.58655673e-03,\n",
       "       6.03127954e-03, 6.08535511e-03, 6.09355491e-03, 6.20253393e-03,\n",
       "       7.03229184e-03, 7.08139401e-03, 7.76421796e-03, 7.85932199e-03,\n",
       "       8.09251597e-03, 8.30810735e-03, 8.38377624e-03, 8.43127986e-03,\n",
       "       9.03339463e-03, 9.52775316e-03, 9.62844588e-03, 9.67503629e-03,\n",
       "       1.00779398e-02, 1.01879185e-02, 1.03249509e-02, 1.07602905e-02,\n",
       "       1.11093175e-02, 1.15422296e-02, 1.15590009e-02, 1.31459699e-02,\n",
       "       1.40844826e-02, 1.42291745e-02, 1.44730849e-02, 1.49622909e-02,\n",
       "       1.51136281e-02, 1.56545918e-02, 1.62145330e-02, 1.63427152e-02,\n",
       "       1.66689414e-02, 1.67341314e-02, 1.71730519e-02, 1.76195481e-02,\n",
       "       1.76466396e-02, 1.83723269e-02, 1.83832388e-02, 1.84488403e-02,\n",
       "       1.88025489e-02, 1.88777800e-02, 1.91162648e-02, 1.95401093e-02,\n",
       "       2.05458630e-02, 2.20183583e-02, 2.20191292e-02, 2.28815249e-02,\n",
       "       2.28961146e-02, 2.30388933e-02, 2.31277800e-02, 2.35744636e-02,\n",
       "       2.38840461e-02, 2.40226327e-02, 2.58211065e-02, 2.63377555e-02,\n",
       "       2.69866655e-02, 2.77071320e-02, 3.07315729e-02, 3.30968835e-02,\n",
       "       3.37830057e-02, 3.42504273e-02, 3.43486809e-02, 3.43740763e-02,\n",
       "       3.45718373e-02, 3.46966637e-02, 3.48999355e-02, 3.50241309e-02,\n",
       "       3.51250472e-02, 3.53661408e-02, 3.54417289e-02, 3.54546765e-02,\n",
       "       3.71494202e-02, 3.92060151e-02, 3.95820964e-02, 4.20579825e-02,\n",
       "       4.38577802e-02, 4.59557930e-02, 4.90117419e-02, 4.93069486e-02,\n",
       "       4.95874136e-02, 5.02195298e-02, 5.21129948e-02, 5.53481306e-02,\n",
       "       5.70766354e-02, 5.77992292e-02, 6.22283733e-02, 6.47864324e-02,\n",
       "       6.52242226e-02, 6.53895756e-02, 6.65660137e-02, 6.69233368e-02,\n",
       "       6.84777078e-02, 6.85409434e-02, 6.86357157e-02, 7.09647557e-02,\n",
       "       7.22730955e-02, 7.28293258e-02, 7.28874112e-02, 7.58813450e-02,\n",
       "       7.59329338e-02, 7.67163080e-02, 7.69697130e-02, 7.80139982e-02,\n",
       "       8.77917849e-02, 8.92626654e-02, 9.33263234e-02, 9.59691225e-02,\n",
       "       1.07284986e-01, 1.11573080e-01, 1.12282001e-01, 1.13602832e-01,\n",
       "       1.17354708e-01, 1.18301164e-01, 1.24387346e-01, 1.33865006e-01,\n",
       "       1.36335364e-01, 1.39539006e-01, 1.41787373e-01, 1.43110499e-01,\n",
       "       1.47354956e-01, 1.47466298e-01, 1.48721057e-01, 1.49826380e-01,\n",
       "       1.51167429e-01, 1.51557733e-01, 1.56376689e-01, 1.56711943e-01,\n",
       "       1.59692537e-01, 1.61634697e-01, 1.64342600e-01, 1.69746135e-01,\n",
       "       1.74362184e-01, 1.76563906e-01, 1.89989653e-01, 1.90280607e-01,\n",
       "       1.90938571e-01, 1.94396386e-01, 2.01918994e-01, 2.04127637e-01,\n",
       "       2.06191822e-01, 2.14425078e-01, 2.21906445e-01, 2.23906951e-01,\n",
       "       2.26311293e-01, 2.28423708e-01, 2.30920295e-01, 2.41769553e-01,\n",
       "       2.43874153e-01, 2.66367429e-01, 2.68788281e-01, 2.70503485e-01,\n",
       "       2.74750407e-01, 2.82080951e-01, 2.83373972e-01, 2.86479530e-01,\n",
       "       2.87682239e-01, 2.98331881e-01, 3.02434747e-01, 3.05063675e-01,\n",
       "       3.16000818e-01, 3.28995047e-01, 3.39055914e-01, 3.43068821e-01,\n",
       "       3.44755827e-01, 3.45310593e-01, 3.64512191e-01, 3.65724372e-01,\n",
       "       3.66244172e-01, 3.75541722e-01, 3.83822732e-01, 3.87260539e-01,\n",
       "       3.88042020e-01, 4.03132315e-01, 4.04531213e-01, 4.27870339e-01,\n",
       "       4.33661973e-01, 4.51863421e-01, 4.74403960e-01, 5.15764252e-01,\n",
       "       5.21519051e-01, 5.31615889e-01, 5.44318232e-01, 5.53226682e-01,\n",
       "       5.56246104e-01, 5.69971494e-01, 5.79054547e-01, 5.90603549e-01,\n",
       "       6.00473658e-01, 6.01647187e-01, 6.04541549e-01, 6.19920123e-01,\n",
       "       6.20137303e-01, 6.85210330e-01, 7.01528240e-01, 7.27659426e-01,\n",
       "       7.41991732e-01, 7.42298676e-01, 7.42516558e-01, 7.71773002e-01,\n",
       "       7.76396476e-01, 7.86883149e-01, 7.98745492e-01, 8.01139931e-01,\n",
       "       8.15474484e-01, 8.18645153e-01, 8.43448002e-01, 8.54298168e-01,\n",
       "       8.77193213e-01, 8.83903751e-01, 8.97011927e-01, 9.09622885e-01,\n",
       "       9.16884608e-01, 9.19062199e-01, 9.42458149e-01, 9.43988292e-01,\n",
       "       9.47735634e-01, 9.62683939e-01, 9.69707555e-01, 9.71616967e-01,\n",
       "       9.75733325e-01, 9.77202447e-01, 9.86155547e-01, 9.86528598e-01,\n",
       "       9.88485279e-01, 9.88888772e-01, 9.89565682e-01, 9.91633684e-01,\n",
       "       9.93741759e-01, 9.93948231e-01, 9.94742238e-01, 9.95347317e-01,\n",
       "       9.96576703e-01, 9.98236434e-01, 9.99572012e-01, 9.99703699e-01,\n",
       "       9.99720517e-01])"
      ]
     },
     "execution_count": 46,
     "metadata": {},
     "output_type": "execute_result"
    }
   ],
   "source": []
  },
  {
   "cell_type": "code",
   "execution_count": null,
   "id": "public-effect",
   "metadata": {},
   "outputs": [],
   "source": []
  }
 ],
 "metadata": {
  "kernelspec": {
   "display_name": "Python 3",
   "language": "python",
   "name": "python3"
  },
  "language_info": {
   "codemirror_mode": {
    "name": "ipython",
    "version": 3
   },
   "file_extension": ".py",
   "mimetype": "text/x-python",
   "name": "python",
   "nbconvert_exporter": "python",
   "pygments_lexer": "ipython3",
   "version": "3.7.4"
  }
 },
 "nbformat": 4,
 "nbformat_minor": 5
}
